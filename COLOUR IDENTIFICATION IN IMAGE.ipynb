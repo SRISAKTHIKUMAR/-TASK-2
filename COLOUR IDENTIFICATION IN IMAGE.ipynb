{
 "cells": [
  {
   "cell_type": "code",
   "execution_count": 1,
   "id": "404c0e3b",
   "metadata": {},
   "outputs": [],
   "source": [
    "import cv2\n",
    "import pandas as pd"
   ]
  },
  {
   "cell_type": "code",
   "execution_count": 6,
   "id": "5d4ade5f",
   "metadata": {},
   "outputs": [],
   "source": [
    "img_path = '\\\\Users\\SSNAGARASUN\\Desktop\\\\pic3.jpg'\n",
    "csv_path = '\\\\Users\\SSNAGARASUN\\Desktop\\\\colors.csv'"
   ]
  },
  {
   "cell_type": "code",
   "execution_count": 7,
   "id": "54272c20",
   "metadata": {},
   "outputs": [],
   "source": [
    "index = ['color', 'color_name', 'hex', 'R', 'G', 'B']\n",
    "df = pd.read_csv(csv_path, names=index, header=None)"
   ]
  },
  {
   "cell_type": "code",
   "execution_count": 8,
   "id": "7d197ac5",
   "metadata": {},
   "outputs": [],
   "source": [
    "img = cv2.imread(img_path)\n",
    "img = cv2.resize(img, (800,600))"
   ]
  },
  {
   "cell_type": "code",
   "execution_count": 10,
   "id": "8c635848",
   "metadata": {},
   "outputs": [],
   "source": [
    "clicked = False\n",
    "r = g = b = xpos = ypos = 0"
   ]
  },
  {
   "cell_type": "code",
   "execution_count": 11,
   "id": "aafa1e25",
   "metadata": {},
   "outputs": [],
   "source": [
    "def get_color_name(R,G,B):\n",
    "\tminimum = 1000\n",
    "\tfor i in range(len(df)):\n",
    "\t\td = abs(R - int(df.loc[i,'R'])) + abs(G - int(df.loc[i,'G'])) + abs(B - int(df.loc[i,'B']))\n",
    "\t\tif d <= minimum:\n",
    "\t\t\tminimum = d\n",
    "\t\t\tcname = df.loc[i, 'color_name']\n",
    "\n",
    "\treturn cname"
   ]
  },
  {
   "cell_type": "code",
   "execution_count": 12,
   "id": "36bdfc31",
   "metadata": {},
   "outputs": [],
   "source": [
    "def draw_function(event, x, y, flags, params):\n",
    "\tif event == cv2.EVENT_LBUTTONDBLCLK:\n",
    "\t\tglobal b, g, r, xpos, ypos, clicked\n",
    "\t\tclicked = True\n",
    "\t\txpos = x\n",
    "\t\typos = y\n",
    "\t\tb,g,r = img[y,x]\n",
    "\t\tb = int(b)\n",
    "\t\tg = int(g)\n",
    "\t\tr = int(r)"
   ]
  },
  {
   "cell_type": "code",
   "execution_count": null,
   "id": "05a340d4",
   "metadata": {},
   "outputs": [],
   "source": [
    "cv2.namedWindow('image')\n",
    "cv2.setMouseCallback('image', draw_function)\n",
    "\n",
    "while True:\n",
    "\tcv2.imshow('image', img)\n",
    "\tif clicked:\n",
    "\t\t#cv2.rectangle(image, startpoint, endpoint, color, thickness)-1 fills entire rectangle \n",
    "\t\tcv2.rectangle(img, (20,20), (600,60), (b,g,r), -1)\n",
    "\n",
    "\t\t#Creating text string to display( Color name and RGB values )\n",
    "\t\ttext = get_color_name(r,g,b) + ' R=' + str(r) + ' G=' + str(g) + ' B=' + str(b)\n",
    "\t\t#cv2.putText(img,text,start,font(0-7),fontScale,color,thickness,lineType )\n",
    "\t\tcv2.putText(img, text, (50,50), 2,0.8, (255,255,255),2,cv2.LINE_AA)\n",
    "\n",
    "\t\t#For very light colours we will display text in black colour\n",
    "\t\tif r+g+b >=600:\n",
    "\t\t\tcv2.putText(img, text, (50,50), 2,0.8, (0,0,0),2,cv2.LINE_AA)\n",
    "\n",
    "\tif cv2.waitKey(20) & 0xFF == 27:\n",
    "\t\tbreak\n",
    "\n",
    "cv2.destroyAllWindows()"
   ]
  },
  {
   "cell_type": "code",
   "execution_count": null,
   "id": "ec8f5545",
   "metadata": {},
   "outputs": [],
   "source": []
  }
 ],
 "metadata": {
  "kernelspec": {
   "display_name": "Python 3",
   "language": "python",
   "name": "python3"
  },
  "language_info": {
   "codemirror_mode": {
    "name": "ipython",
    "version": 3
   },
   "file_extension": ".py",
   "mimetype": "text/x-python",
   "name": "python",
   "nbconvert_exporter": "python",
   "pygments_lexer": "ipython3",
   "version": "3.8.8"
  }
 },
 "nbformat": 4,
 "nbformat_minor": 5
}
